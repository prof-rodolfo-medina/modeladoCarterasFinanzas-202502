{
 "cells": [
  {
   "cell_type": "code",
   "execution_count": null,
   "id": "5e3854cc",
   "metadata": {},
   "outputs": [],
   "source": [
    "# Long Straddle Payoff - Estrategia con opciones\n",
    "# Parámetros: C (call premium), P (put premium), E (strike price)\n",
    "\n",
    "import numpy as np\n",
    "import matplotlib.pyplot as plt\n",
    "\n",
    "# Parámetros de la estrategia\n",
    "C = 5      # Prima de la call (€)\n",
    "E = 100    # Precio de ejercicio (€)\n",
    "P = 4      # Prima de la put (€)\n"
   ]
  },
  {
   "cell_type": "code",
   "execution_count": null,
   "id": "1f16b6fe",
   "metadata": {},
   "outputs": [],
   "source": [
    "# Funciones de payoff\n",
    "def payoff_call(ST, E):\n",
    "    return np.maximum(ST - E, 0)\n",
    "\n",
    "def payoff_put(ST, E):\n",
    "    return np.maximum(E - ST, 0)"
   ]
  },
  {
   "cell_type": "code",
   "execution_count": null,
   "id": "1e19d0b8",
   "metadata": {},
   "outputs": [],
   "source": [
    "\n",
    "# Rango de precios del subyacente al vencimiento\n",
    "ST = np.linspace(60, 140, 500)  # 500 puntos de 60€ a 140€\n",
    "\n",
    "# Cálculo de los payoffs\n",
    "payoff_c = payoff_call(ST, E)\n",
    "payoff_p = payoff_put(ST, E)\n",
    "\n",
    "# Desembolso inicial\n",
    "prima_total = C + P\n",
    "\n",
    "# Payoff total de la estrategia\n",
    "payoff_total = payoff_c + payoff_p - prima_total\n",
    "\n",
    "# Puntos relevantes\n",
    "perdida_max = -prima_total\n",
    "break_even_low = E - prima_total\n",
    "break_even_high = E + prima_total\n",
    "\n",
    "# Gráfica\n",
    "plt.figure(figsize=(10, 6))\n",
    "plt.plot(ST, payoff_total, label='Payoff Total (Long Straddle)', linewidth=2)\n",
    "plt.axhline(0, color='gray', linestyle='--', linewidth=1)\n",
    "plt.axvline(E, color='blue', linestyle='--', label='Precio de ejercicio E')\n",
    "plt.axhline(perdida_max, color='red', linestyle=':', label='Pérdida máxima')\n",
    "plt.axvline(break_even_low, color='green', linestyle='--', label='Break-even inferior')\n",
    "plt.axvline(break_even_high, color='green', linestyle='--', label='Break-even superior')\n",
    "\n",
    "plt.title('Perfil de Ganancia/Pérdida Total (Long Straddle)')\n",
    "plt.xlabel('Precio del subyacente al vencimiento ($S_T$) [€]')\n",
    "plt.ylabel('Ganancia/Pérdida [€]')\n",
    "plt.legend(loc='best')\n",
    "plt.grid(True)\n",
    "\n",
    "plt.annotate(f'Pérdida máx.\\n{perdida_max}€', xy=(E, perdida_max), xytext=(E+5, perdida_max-10),\n",
    "             arrowprops=dict(arrowstyle='->'))\n",
    "plt.annotate(f'Break-even\\n{break_even_low:.2f}€', xy=(break_even_low, 0), xytext=(break_even_low-20, 10),\n",
    "             arrowprops=dict(arrowstyle='->'))\n",
    "plt.annotate(f'Break-even\\n{break_even_high:.2f}€', xy=(break_even_high, 0), xytext=(break_even_high+2, 10),\n",
    "             arrowprops=dict(arrowstyle='->'))\n",
    "\n",
    "plt.tight_layout()\n",
    "plt.show()\n"
   ]
  },
  {
   "cell_type": "code",
   "execution_count": null,
   "id": "1f436d24",
   "metadata": {},
   "outputs": [],
   "source": [
    "def long_straddle_payoff(ST, E, C, P):\n",
    "    return max(ST - E, 0) + max(E - ST, 0) - (C + P)\n",
    "\n",
    "test_params = {\n",
    "    'E': 100,\n",
    "    'C': 5,\n",
    "    'P': 4\n",
    "}\n",
    "payoff_en_E = long_straddle_payoff(test_params['E'], **test_params)\n",
    "print(f\"Payoff en E ({test_params['E']}): {payoff_en_E} € (debe ser {-test_params['C'] - test_params['P']} €)\")\n",
    "be_low = test_params['E'] - (test_params['C'] + test_params['P'])\n",
    "payoff_be_low = long_straddle_payoff(be_low, **test_params)\n",
    "print(f\"Payoff en break-even inferior ({be_low}): {payoff_be_low} € (debe ser 0 €)\")\n",
    "be_high = test_params['E'] + (test_params['C'] + test_params['P'])\n",
    "payoff_be_high = long_straddle_payoff(be_high, **test_params)\n",
    "print(f\"Payoff en break-even superior ({be_high}): {payoff_be_high} € (debe ser 0 €)\")\n",
    "payoff_bajo = long_straddle_payoff(60, **test_params)\n",
    "print(f\"Payoff en ST=60: {payoff_bajo} €\")\n",
    "payoff_alto = long_straddle_payoff(140, **test_params)\n",
    "print(f\"Payoff en ST=140: {payoff_alto} €\")\n"
   ]
  }
 ],
 "metadata": {
  "language_info": {
   "name": "python"
  }
 },
 "nbformat": 4,
 "nbformat_minor": 5
}
